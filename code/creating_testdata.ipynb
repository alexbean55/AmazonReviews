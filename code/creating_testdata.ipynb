{
 "cells": [
  {
   "cell_type": "code",
   "execution_count": 2,
   "id": "dbd1e548-cb9b-4cb6-a41e-92a78fbd31d9",
   "metadata": {},
   "outputs": [],
   "source": [
    "import os\n",
    "import pandas as pd\n",
    "import numpy as np\n",
    "from collections import defaultdict, Counter\n",
    "import matplotlib.pyplot as plt\n",
    "import seaborn as sns"
   ]
  },
  {
   "cell_type": "code",
   "execution_count": 28,
   "id": "8eaccb5b-0e8c-4b92-9d3c-7b86c0e0d6b2",
   "metadata": {},
   "outputs": [
    {
     "data": {
      "text/plain": [
       "(34660, 3)"
      ]
     },
     "execution_count": 28,
     "metadata": {},
     "output_type": "execute_result"
    }
   ],
   "source": [
    "df_test_unclean = pd.read_csv('../data/test_unclean.csv', usecols=['reviews.rating', 'reviews.text', 'reviews.title'])\n",
    "df_test_unclean.columns=['rating', 'text', 'title']\n",
    "df_test_unclean.shape"
   ]
  },
  {
   "cell_type": "code",
   "execution_count": 30,
   "id": "c1e693e7-c438-4a0a-977c-1e5d33406f5d",
   "metadata": {},
   "outputs": [
    {
     "data": {
      "text/html": [
       "<div>\n",
       "<style scoped>\n",
       "    .dataframe tbody tr th:only-of-type {\n",
       "        vertical-align: middle;\n",
       "    }\n",
       "\n",
       "    .dataframe tbody tr th {\n",
       "        vertical-align: top;\n",
       "    }\n",
       "\n",
       "    .dataframe thead th {\n",
       "        text-align: right;\n",
       "    }\n",
       "</style>\n",
       "<table border=\"1\" class=\"dataframe\">\n",
       "  <thead>\n",
       "    <tr style=\"text-align: right;\">\n",
       "      <th></th>\n",
       "      <th>rating</th>\n",
       "      <th>text</th>\n",
       "      <th>title</th>\n",
       "    </tr>\n",
       "  </thead>\n",
       "  <tbody>\n",
       "    <tr>\n",
       "      <th>0</th>\n",
       "      <td>5.0</td>\n",
       "      <td>This product so far has not disappointed. My c...</td>\n",
       "      <td>Kindle</td>\n",
       "    </tr>\n",
       "    <tr>\n",
       "      <th>1</th>\n",
       "      <td>5.0</td>\n",
       "      <td>great for beginner or experienced person. Boug...</td>\n",
       "      <td>very fast</td>\n",
       "    </tr>\n",
       "    <tr>\n",
       "      <th>2</th>\n",
       "      <td>5.0</td>\n",
       "      <td>Inexpensive tablet for him to use and learn on...</td>\n",
       "      <td>Beginner tablet for our 9 year old son.</td>\n",
       "    </tr>\n",
       "    <tr>\n",
       "      <th>3</th>\n",
       "      <td>4.0</td>\n",
       "      <td>I've had my Fire HD 8 two weeks now and I love...</td>\n",
       "      <td>Good!!!</td>\n",
       "    </tr>\n",
       "    <tr>\n",
       "      <th>4</th>\n",
       "      <td>5.0</td>\n",
       "      <td>I bought this for my grand daughter when she c...</td>\n",
       "      <td>Fantastic Tablet for kids</td>\n",
       "    </tr>\n",
       "  </tbody>\n",
       "</table>\n",
       "</div>"
      ],
      "text/plain": [
       "   rating                                               text  \\\n",
       "0     5.0  This product so far has not disappointed. My c...   \n",
       "1     5.0  great for beginner or experienced person. Boug...   \n",
       "2     5.0  Inexpensive tablet for him to use and learn on...   \n",
       "3     4.0  I've had my Fire HD 8 two weeks now and I love...   \n",
       "4     5.0  I bought this for my grand daughter when she c...   \n",
       "\n",
       "                                     title  \n",
       "0                                   Kindle  \n",
       "1                                very fast  \n",
       "2  Beginner tablet for our 9 year old son.  \n",
       "3                                  Good!!!  \n",
       "4                Fantastic Tablet for kids  "
      ]
     },
     "execution_count": 30,
     "metadata": {},
     "output_type": "execute_result"
    }
   ],
   "source": [
    "df_test_unclean.head()"
   ]
  },
  {
   "cell_type": "code",
   "execution_count": 40,
   "id": "ab092ff2-29e0-4195-af17-a08dcf754e4b",
   "metadata": {},
   "outputs": [
    {
     "name": "stderr",
     "output_type": "stream",
     "text": [
      "C:\\Users\\utgoy\\AppData\\Local\\Temp\\ipykernel_21544\\2990468305.py:2: SettingWithCopyWarning: \n",
      "A value is trying to be set on a copy of a slice from a DataFrame.\n",
      "Try using .loc[row_indexer,col_indexer] = value instead\n",
      "\n",
      "See the caveats in the documentation: https://pandas.pydata.org/pandas-docs/stable/user_guide/indexing.html#returning-a-view-versus-a-copy\n",
      "  df_test_unclean_no3['polarity'] = np.where(df_test_unclean_no3['rating']<3, 1, 2)\n"
     ]
    },
    {
     "data": {
      "text/plain": [
       "(33161, 4)"
      ]
     },
     "execution_count": 40,
     "metadata": {},
     "output_type": "execute_result"
    }
   ],
   "source": [
    "df_test_unclean_no3 = df_test_unclean[df_test_unclean['rating']!=3]\n",
    "df_test_unclean_no3['polarity'] = np.where(df_test_unclean_no3['rating']<3, 1, 2)\n",
    "df_test_unclean_no3.shape"
   ]
  },
  {
   "cell_type": "code",
   "execution_count": 42,
   "id": "de25db67-3e4d-408a-b690-75a0ea3e4c37",
   "metadata": {},
   "outputs": [
    {
     "data": {
      "text/plain": [
       "(33161, 3)"
      ]
     },
     "execution_count": 42,
     "metadata": {},
     "output_type": "execute_result"
    }
   ],
   "source": [
    "df_test_clean = df_test_unclean_no3[['polarity', 'text', 'title']]\n",
    "df_test_clean.shape"
   ]
  },
  {
   "cell_type": "code",
   "execution_count": 44,
   "id": "459d200f-ffd9-4a6d-a10a-6430f974d280",
   "metadata": {},
   "outputs": [],
   "source": [
    "df_test_clean.to_csv('../data/test.csv', index=False)"
   ]
  }
 ],
 "metadata": {
  "kernelspec": {
   "display_name": "Python 3 (ipykernel)",
   "language": "python",
   "name": "python3"
  },
  "language_info": {
   "codemirror_mode": {
    "name": "ipython",
    "version": 3
   },
   "file_extension": ".py",
   "mimetype": "text/x-python",
   "name": "python",
   "nbconvert_exporter": "python",
   "pygments_lexer": "ipython3",
   "version": "3.12.4"
  }
 },
 "nbformat": 4,
 "nbformat_minor": 5
}
